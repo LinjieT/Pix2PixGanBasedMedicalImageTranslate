{
 "cells": [
  {
   "cell_type": "code",
   "execution_count": 4,
   "id": "fe570d1d-9734-416a-ac80-736cf1dd1e72",
   "metadata": {},
   "outputs": [
    {
     "name": "stdout",
     "output_type": "stream",
     "text": [
      "./TestOriginal\\BraTS2021_01665\\BraTS2021_01665_t1.nii.gz\n"
     ]
    },
    {
     "data": {
      "image/png": "[encoded data removed]",
      "text/plain": [
       "<Figure size 640x480 with 1 Axes>"
      ]
     },
     "metadata": {},
     "output_type": "display_data"
    }
   ],
   "source": [
    "import glob\n",
    "import SimpleITK as sitk\n",
    "import matplotlib.pyplot as plt\n",
    "import cv2\n",
    "from PIL import Image\n",
    "import numpy as np\n",
    "paths=r'./TestOriginal/BraTS2021*'\n",
    "path=glob.glob(paths)\n",
    "N=0\n",
    "for dic_path in path:\n",
    "    img_path=glob.glob(dic_path+'/*t1*')[0]\n",
    "    print(img_path)\n",
    "    imgs1=sitk.GetArrayFromImage(sitk.ReadImage(img_path))\n",
    "    img_path2=img_path.replace(\"t1\", \"t2\")\n",
    "    imgs2=sitk.GetArrayFromImage(sitk.ReadImage(img_path2))\n",
    "    slices=imgs1.shape[0]\n",
    "    for i in range(slices):\n",
    "        img1=imgs1[i]\n",
    "        img2=imgs2[i]\n",
    "       \n",
    "        img=np.zeros((img1.shape[0],2*img1.shape[1]))\n",
    "        if img1.max()!=0:\n",
    "            img1=img1/img1.max()\n",
    "            img1=255*img1\n",
    "        if img2.max()!=0:\n",
    "            img2=img2/img2.max()\n",
    "            img2=255*img2\n",
    "        img[:,:img1.shape[1]]=img1\n",
    "        img[:,img1.shape[1]:]=img2\n",
    "\n",
    "        image_from_array = Image.fromarray(img.astype('uint8'))\n",
    "        #mg=img/img.max()\n",
    "        name='.\\\\test\\\\'+str(N)+'.jpg'\n",
    "        image_from_array.save(name)\n",
    "        N+=1\n",
    "        #cv2.imwrite(name,img)\n",
    "        #break\n",
    "    plt.imshow(img,cmap='gray')\n",
    "    #type(imgs)"
   ]
  },
  {
   "cell_type": "code",
   "execution_count": 4,
   "id": "017e6964-c1e4-4541-8e2d-19e10ccd3cfa",
   "metadata": {},
   "outputs": [
    {
     "name": "stdout",
     "output_type": "stream",
     "text": [
      "SmallMRI_pix2pix_L2clT1T2 Mean L2: 18.71207028343564\n",
      "SmallMRI_pix2pix_LIclT1T2 Mean L2: 17.454466683523997\n",
      "SmallMRI_pix2pix_clT1T2 Mean L2: 19.977814447312124\n",
      "MRI_pix2pix_L2clT1T2 Mean L2: 20.607833534158686\n",
      "MRI_pix2pix_LIclT1T2 Mean L2: 20.452311952652465\n",
      "MRI_pix2pix_clT1T2 Mean L2: 18.214468613491263\n"
     ]
    }
   ],
   "source": [
    "import glob\n",
    "import SimpleITK as sitk\n",
    "import matplotlib.pyplot as plt\n",
    "import cv2\n",
    "from PIL import Image\n",
    "import numpy as np\n",
    "def ComputingMSE(name):\n",
    "    paths=glob.glob('./'+name+'/test_latest/images/*fake*')\n",
    "    #print(paths)\n",
    "    L2_sum=0\n",
    "    for PathFake in paths:\n",
    "        FakeImg=Image.open(PathFake)\n",
    "        FakeImg=np.array(FakeImg)\n",
    "        PathTrue=PathFake.replace('fake','real')\n",
    "        TrueImg=Image.open(PathTrue)\n",
    "        TrueImg=np.array(TrueImg)\n",
    "        L2=((TrueImg-FakeImg)**2).mean()\n",
    "        L2_sum+=L2\n",
    "        #print(L2)\n",
    "    print(name+' Mean L2:',L2_sum/len(paths))\n",
    "        #print(TrueImgTrueImg.shape)\n",
    "        #print(np.max(FakeImg))\n",
    "ComputingMSE('SmallMRI_pix2pix_L2clT1T2')\n",
    "ComputingMSE('SmallMRI_pix2pix_LIclT1T2')\n",
    "ComputingMSE('SmallMRI_pix2pix_clT1T2')\n",
    "ComputingMSE('MRI_pix2pix_L2clT1T2')\n",
    "ComputingMSE('MRI_pix2pix_LIclT1T2')\n",
    "ComputingMSE('MRI_pix2pix_clT1T2')"
   ]
  },
  {
   "cell_type": "code",
   "execution_count": null,
   "id": "0e14aa04-100f-4e8a-a783-d3fe72adcc13",
   "metadata": {},
   "outputs": [],
   "source": []
  }
 ],
 "metadata": {
  "kernelspec": {
   "display_name": "Python 3 (ipykernel)",
   "language": "python",
   "name": "python3"
  },
  "language_info": {
   "codemirror_mode": {
    "name": "ipython",
    "version": 3
   },
   "file_extension": ".py",
   "mimetype": "text/x-python",
   "name": "python",
   "nbconvert_exporter": "python",
   "pygments_lexer": "ipython3",
   "version": "3.11.5"
  }
 },
 "nbformat": 4,
 "nbformat_minor": 5
}
